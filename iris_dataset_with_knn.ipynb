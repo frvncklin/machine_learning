{
 "cells": [
  {
   "cell_type": "markdown",
   "id": "92aba143-a345-463c-82ae-d0e4fbe11f14",
   "metadata": {},
   "source": [
    "### Importando o Iris Dataset"
   ]
  },
  {
   "cell_type": "code",
   "execution_count": 17,
   "id": "cd523c11-ac3a-4411-bbd0-f80300307031",
   "metadata": {},
   "outputs": [],
   "source": [
    "from sklearn.datasets import load_iris\n",
    "iris = load_iris()"
   ]
  },
  {
   "cell_type": "markdown",
   "id": "c78ca8da-e0c9-4ff8-9953-98ceda73d832",
   "metadata": {},
   "source": [
    "### Coletando as observações e targets"
   ]
  },
  {
   "cell_type": "code",
   "execution_count": 18,
   "id": "8576b364-0487-4577-becc-6c5fbd3bb57f",
   "metadata": {},
   "outputs": [],
   "source": [
    "x = iris.data\n",
    "y = iris.target"
   ]
  },
  {
   "cell_type": "markdown",
   "id": "ebe31527-6ee8-4efa-a922-c346472d61bc",
   "metadata": {},
   "source": [
    "### Preparando o treinamento"
   ]
  },
  {
   "cell_type": "code",
   "execution_count": 19,
   "id": "2b1054dc-162b-4816-bdb0-92b66fb4b459",
   "metadata": {},
   "outputs": [],
   "source": [
    "from sklearn.model_selection import train_test_split\n",
    "x_train, x_test, y_train, y_test = train_test_split(x, y, test_size=0.25)"
   ]
  },
  {
   "cell_type": "markdown",
   "id": "e22e0b23-4a35-4559-a55f-df90d2566361",
   "metadata": {},
   "source": [
    "### Criando os modelos dinâmicamente e medindo sua acurácia"
   ]
  },
  {
   "cell_type": "code",
   "execution_count": 22,
   "id": "15635cf1-37d5-4699-8e9a-e8e297797f00",
   "metadata": {},
   "outputs": [
    {
     "name": "stdout",
     "output_type": "stream",
     "text": [
      "Modelo com k=1 -> Acurácia: 0.9473684210526315\n",
      "Modelo com k=2 -> Acurácia: 0.9473684210526315\n",
      "Modelo com k=3 -> Acurácia: 0.9473684210526315\n",
      "Modelo com k=4 -> Acurácia: 0.9473684210526315\n",
      "Modelo com k=5 -> Acurácia: 0.9473684210526315\n",
      "Modelo com k=6 -> Acurácia: 0.9736842105263158\n",
      "Modelo com k=7 -> Acurácia: 0.9473684210526315\n",
      "Modelo com k=8 -> Acurácia: 0.9736842105263158\n",
      "Modelo com k=9 -> Acurácia: 0.9473684210526315\n",
      "Modelo com k=10 -> Acurácia: 0.9473684210526315\n"
     ]
    }
   ],
   "source": [
    "from sklearn.neighbors import KNeighborsClassifier\n",
    "from sklearn import metrics\n",
    "\n",
    "hits_list = []\n",
    "\n",
    "for n in range(1, 11):\n",
    "    \n",
    "    # Criando o modelo\n",
    "    knn = KNeighborsClassifier(n_neighbors=n)\n",
    "    \n",
    "    # Treinando o modelo\n",
    "    knn.fit(x_train, y_train)\n",
    "\n",
    "    # Testando o modelo\n",
    "    predictions = knn.predict(x_test)\n",
    "\n",
    "    # medindo a acuracia do modelo\n",
    "    hits = metrics.accuracy_score(y_test, predictions)\n",
    "    hits_list.append(hits)\n",
    "    print(f\"Modelo com k={n} -> Acurácia: {hits}\") \n",
    "    \n",
    "\n",
    "    "
   ]
  },
  {
   "cell_type": "markdown",
   "id": "478ee12b-8c7b-4f8c-8e28-351ee570e9f3",
   "metadata": {},
   "source": [
    "### Verificando qual modelo acertou mais"
   ]
  },
  {
   "cell_type": "code",
   "execution_count": 23,
   "id": "d247f006-bafc-4897-a476-0ca765b7031a",
   "metadata": {},
   "outputs": [
    {
     "name": "stdout",
     "output_type": "stream",
     "text": [
      "O modelo com o maior número de acertos é o k=6\n"
     ]
    }
   ],
   "source": [
    "best_model = max(hits_list)\n",
    "print(f\"O modelo com o maior número de acertos é o k={hits_list.index(best_model) + 1}\")"
   ]
  },
  {
   "cell_type": "code",
   "execution_count": null,
   "id": "9ece2396-28b0-4ae4-88b9-a17331d653c9",
   "metadata": {},
   "outputs": [],
   "source": []
  }
 ],
 "metadata": {
  "kernelspec": {
   "display_name": "Python 3 (ipykernel)",
   "language": "python",
   "name": "python3"
  },
  "language_info": {
   "codemirror_mode": {
    "name": "ipython",
    "version": 3
   },
   "file_extension": ".py",
   "mimetype": "text/x-python",
   "name": "python",
   "nbconvert_exporter": "python",
   "pygments_lexer": "ipython3",
   "version": "3.13.1"
  }
 },
 "nbformat": 4,
 "nbformat_minor": 5
}
